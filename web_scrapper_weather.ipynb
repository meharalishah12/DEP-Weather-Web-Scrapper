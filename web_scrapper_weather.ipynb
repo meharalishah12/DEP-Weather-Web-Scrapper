{
 "cells": [
  {
   "cell_type": "code",
   "execution_count": 10,
   "metadata": {},
   "outputs": [
    {
     "name": "stdout",
     "output_type": "stream",
     "text": [
      "Location: Thal, Temperature: 31°C, Description: Scattered thunderstorms\n",
      "Weather data saved to weather_data.csv\n"
     ]
    }
   ],
   "source": [
    "from requests_html import HTMLSession\n",
    "import csv\n",
    "import os\n",
    "\n",
    "def fetch_weather_data(query):\n",
    "    session = HTMLSession()\n",
    "    url = f'https://www.google.com/search?q=weather+{query}'\n",
    "    r = session.get(url, headers={'User-Agent': 'Mozilla/5.0 (Windows NT 10.0; Win64; x64) AppleWebKit/537.36 (KHTML, like Gecko) Chrome/127.0.0.0 Safari/537.36'})\n",
    "\n",
    "    temp_element = r.html.find('span#wob_tm', first=True)\n",
    "    unit_element = r.html.find('div.vk_bk.wob-unit span.wob_t', first=True)\n",
    "    desc_element = r.html.find('div.VQF4g span#wob_dc', first=True)\n",
    "\n",
    "    temp = temp_element.text if temp_element else 'N/A'\n",
    "    unit = unit_element.text if unit_element else 'N/A'\n",
    "    desc = desc_element.text if desc_element else 'N/A'\n",
    "\n",
    "    return query, temp, unit, desc\n",
    "\n",
    "def save_to_csv(data, csv_file='weather_data.csv'):\n",
    "    file_exists = os.path.isfile(csv_file)\n",
    "    with open(csv_file, mode='a', newline='', encoding='utf-8') as file:\n",
    "        writer = csv.writer(file)\n",
    "        if not file_exists:\n",
    "            writer.writerow(['Location', 'Temperature', 'Unit', 'Description'])\n",
    "            \n",
    "        writer.writerow(data)\n",
    "\n",
    "    print(f\"Weather data saved to {csv_file}\")\n",
    "\n",
    "weather_data = fetch_weather_data('Thal')\n",
    "print(f\"Location: {weather_data[0]}, Temperature: {weather_data[1]}{weather_data[2]}, Description: {weather_data[3]}\")\n",
    "save_to_csv(weather_data)\n"
   ]
  }
 ],
 "metadata": {
  "kernelspec": {
   "display_name": "Python 3",
   "language": "python",
   "name": "python3"
  },
  "language_info": {
   "codemirror_mode": {
    "name": "ipython",
    "version": 3
   },
   "file_extension": ".py",
   "mimetype": "text/x-python",
   "name": "python",
   "nbconvert_exporter": "python",
   "pygments_lexer": "ipython3",
   "version": "3.12.5"
  }
 },
 "nbformat": 4,
 "nbformat_minor": 2
}
